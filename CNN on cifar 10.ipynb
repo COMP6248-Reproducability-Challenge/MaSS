{
  "nbformat": 4,
  "nbformat_minor": 0,
  "metadata": {
    "colab": {
      "name": "coursework.ipynb",
      "provenance": [],
      "collapsed_sections": [],
      "machine_shape": "hm"
    },
    "kernelspec": {
      "display_name": "Python 3",
      "name": "python3"
    },
    "language_info": {
      "name": "python"
    }
  },
  "cells": [
    {
      "cell_type": "code",
      "metadata": {
        "id": "3_52nYlrDA2q"
      },
      "source": [
        "try:\n",
        "    import torch\n",
        "except:\n",
        "    from os.path import exists\n",
        "    from wheel.pep425tags import get_abbr_impl, get_impl_ver, get_abi_tag\n",
        "    platform = '{}{}-{}'.format(get_abbr_impl(), get_impl_ver(), get_abi_tag())\n",
        "    cuda_output = !ldconfig -p|grep cudart.so|sed -e 's/.*\\.\\([0-9]*\\)\\.\\([0-9]*\\)$/cu\\1\\2/'\n",
        "    accelerator = cuda_output[0] if exists('/dev/nvidia0') else 'cpu'\n",
        "\n",
        "    !pip install -q http://download.pytorch.org/whl/{accelerator}/torch-1.0.0-{platform}-linux_x86_64.whl torchvision\n",
        "\n",
        "try: \n",
        "    import torchbearer\n",
        "except:\n",
        "    !pip install torchbearer\n",
        "import torch\n",
        "import torch.nn.functional as F\n",
        "import torchvision.transforms as transforms\n",
        "import torchbearer\n",
        "from torch import nn\n",
        "from torch import optim\n",
        "from torch.utils.data import DataLoader\n",
        "from torchbearer import Trial\n",
        "import os\n",
        "import numpy as np\n",
        "device = \"cuda:0\" if torch.cuda.is_available() else \"cpu\"\n",
        "print(device)"
      ],
      "execution_count": null,
      "outputs": []
    },
    {
      "cell_type": "code",
      "metadata": {
        "id": "v8oB-IVHeoXk"
      },
      "source": [
        "class CNN(nn.Module):\n",
        "    \"\"\"     \n",
        "    def __init__(self):\n",
        "        super(CNN, self).__init__()\n",
        "        self.conv1 = nn.Conv2d(3, 64, (5, 5), stride = 1, padding=0)\n",
        "        self.conv2 = nn.Conv2d(64, 64, (5, 5), stride = 1, padding=0)\n",
        "        self.conv3 = nn.Conv2d(64, 128, (5, 5), stride = 1, padding=0)\n",
        "        self.fc1 = nn.Linear(128*1, 10)\n",
        "        self.Softmax = nn.Softmax(1)\n",
        "            \n",
        "    def forward(self, x):\n",
        "        #print(x.shape)\n",
        "        out = self.conv1(x)\n",
        "        out = F.relu(out)\n",
        "        out = F.max_pool2d(out, (2,2), stride=2)\n",
        "        #print(out.shape)\n",
        "        out = self.conv2(out)\n",
        "        out = F.relu(out)\n",
        "        out = F.max_pool2d(out, (2,2), stride=2) \n",
        "        #print(out.shape)       \n",
        "        out = self.conv3(out)\n",
        "        out = F.relu(out)\n",
        "        #print(out.shape)\n",
        "        out = out.view(out.shape[0], -1)\n",
        "        out = self.fc1(out)\n",
        "        out = F.dropout(out, 0.5)\n",
        "        out = F.relu(out)\n",
        "        #print(out.shape)\n",
        "        out = self.Softmax(out)      \n",
        "        return out\n",
        "        \"\"\"           \n",
        "    def __init__(self):\n",
        "        super(CNN, self).__init__()\n",
        "        self.conv1 = nn.Conv2d(3, 48, (3, 3), stride = 1, padding=0)\n",
        "        self.conv2 = nn.Conv2d(48, 48, (3, 3), stride = 1, padding=0)\n",
        "        self.fc1 = nn.Linear(48 * 8**2, 128)\n",
        "        self.fc2 = nn.Linear(128, 10)\n",
        "            \n",
        "    def forward(self, x):\n",
        "        out = self.conv1(x)\n",
        "        out = F.relu(out)\n",
        "        out = self.conv2(out)\n",
        "        out = F.relu(out)\n",
        "        m = torch.nn.AdaptiveMaxPool2d(8)\n",
        "        out = m(out)\n",
        "        #print(out.shape)\n",
        "        out = out.view(out.shape[0], -1)\n",
        "        out = self.fc1(out)\n",
        "        #out = F.dropout(out, 0.5)\n",
        "        out = F.relu(out)\n",
        "        out = self.fc2(out) \n",
        "        return out  \n",
        "  "
      ],
      "execution_count": 3,
      "outputs": []
    },
    {
      "cell_type": "code",
      "metadata": {
        "id": "7WzPD1VgewpE"
      },
      "source": [
        "import torch\n",
        "from torch.optim import Optimizer\n",
        "\n",
        "\n",
        "class MySGD(Optimizer):\n",
        "\n",
        "    def __init__(self, params, lr=0, weight_decay=0, alpha=0, kappa_t=0):\n",
        "        if lr and lr < 0.0:\n",
        "            raise ValueError(\"Invalid learning rate: {}\".format(lr))\n",
        "\n",
        "        if weight_decay < 0.0:\n",
        "            raise ValueError(\"Invalid weight_decay value: {}\".format(weight_decay))\n",
        "        if alpha <0.0:\n",
        "            raise ValueError(\"Invalid alpha value: {}\".format(alpha))\n",
        "        if kappa_t <0.0:\n",
        "            raise ValueError(\"Invalid alpha value: {}\".format(kappa_t))\n",
        "\n",
        "        defaults = dict(lr=lr, weight_decay=weight_decay, alpha=alpha, kappa_t=kappa_t)\n",
        "\n",
        "        super(MySGD, self).__init__(params, defaults)\n",
        "\n",
        "    def __setstate__(self, state):\n",
        "        super(MySGD, self).__setstate__(state)\n",
        "\n",
        "    @torch.no_grad()\n",
        "    def step(self, closure=None):\n",
        "\n",
        "        loss = None\n",
        "        if closure is not None:\n",
        "            with torch.enable_grad():\n",
        "                loss = closure()\n",
        "\n",
        "        for group in self.param_groups:\n",
        "            params_with_grad = []\n",
        "            d_p_list = []\n",
        "            momentum_buffer_list = []\n",
        "            weight_decay = group['weight_decay']\n",
        "            lr = group['lr']\n",
        "            alpha = group['alpha']\n",
        "            kappa_t = group['kappa_t']\n",
        "\n",
        "            for p in group['params']:\n",
        "                if p.grad is not None:\n",
        "                    params_with_grad.append(p)    \n",
        "                    d_p_list.append(p.grad)        \n",
        "\n",
        "                    state = self.state[p]\n",
        "                    if 'momentum_buffer' not in state:\n",
        "                        momentum_buffer_list.append(None)\n",
        "                    else:\n",
        "                        momentum_buffer_list.append(state['momentum_buffer'])\n",
        "            #SGD COMPUTE\n",
        "            for i, param in enumerate(params_with_grad):\n",
        "                d_p = d_p_list[i]\n",
        "                \n",
        "                if weight_decay != 0:\n",
        "                    d_p = d_p.add(param, alpha=weight_decay)\n",
        "\n",
        "                buf = momentum_buffer_list[i]\n",
        "\n",
        "                if buf is None:\n",
        "                    buf = torch.clone(d_p).detach()\n",
        "                    momentum_buffer_list[i] = buf\n",
        "                else:\n",
        "                    delta = lr/alpha/kappa_t\n",
        "                    #delta = lr/alpha\n",
        "                    buf.mul_(1 - alpha).add_(d_p, alpha=-(delta)).add_(param.data, alpha=alpha)\n",
        "\n",
        "                param.mul_(1/(1+alpha)).add_(d_p, alpha=-(lr/(1+alpha))).add_(buf, alpha=(alpha / (1 + alpha)))\n",
        "\n",
        "            # update momentum_buffers in state\n",
        "            for p, momentum_buffer in zip(params_with_grad, momentum_buffer_list):\n",
        "                state = self.state[p]\n",
        "                state['momentum_buffer'] = momentum_buffer\n",
        "\n",
        "        return loss"
      ],
      "execution_count": 4,
      "outputs": []
    },
    {
      "cell_type": "code",
      "metadata": {
        "colab": {
          "base_uri": "https://localhost:8080/"
        },
        "id": "NOelog3AepqC",
        "outputId": "02622f74-6971-44b9-cbfd-dd31861d416b"
      },
      "source": [
        "import torch\n",
        "import torchvision\n",
        "import torchvision.transforms as transforms\n",
        " \n",
        "transform = transforms.Compose([transforms.ToTensor(),transforms.Normalize((0.5, 0.5, 0.5), (0.5, 0.5, 0.5))]) \n",
        "\n",
        "trainset = torchvision.datasets.CIFAR10(root='./data', train=True, download=True, transform=transform)\n",
        "\n",
        "trainloader = torch.utils.data.DataLoader(trainset, batch_size=100,shuffle=True, num_workers=2)\n",
        "\n",
        "testset = torchvision.datasets.CIFAR10(root='./data', train=False, download=True, transform=transform)\n",
        "testloader = torch.utils.data.DataLoader(testset, batch_size=100, shuffle=False, num_workers=2)\n",
        "\n",
        "classes = ('plane', 'car', 'bird', 'cat',\n",
        "'deer', 'dog', 'frog', 'horse', 'ship', 'truck')\n"
      ],
      "execution_count": 10,
      "outputs": [
        {
          "output_type": "stream",
          "text": [
            "Files already downloaded and verified\n",
            "Files already downloaded and verified\n"
          ],
          "name": "stdout"
        }
      ]
    },
    {
      "cell_type": "code",
      "metadata": {
        "colab": {
          "background_save": true
        },
        "id": "j3Ohtd3GepxI"
      },
      "source": [
        "import torchbearer\n",
        "\n",
        "# define the loss function and the optimiser\n",
        "model = CNN()\n",
        "loss_function = nn.CrossEntropyLoss()\n",
        "optimiser = MySGD(model.parameters(), lr=0.1, alpha=0.1, kappa_t=2)\n",
        "\n",
        "# Construct a trial object with the model, optimiser and loss.\n",
        "# Also specify metrics we wish to compute.\n",
        "trial = torchbearer.Trial(model, optimiser, loss_function, metrics=['loss', 'accuracy']).to(device)\n",
        "\n",
        "# Provide the data to the trial\n",
        "trial.with_generators(trainloader, val_generator=testloader)\n",
        "\n",
        "# Run 10 epochs of training\n",
        "history = trial.run(epochs=60)\n",
        "print(history)\n",
        "# test the performance\n",
        "results = trial.evaluate(data_key=torchbearer.TEST_DATA)\n",
        "print(results)"
      ],
      "execution_count": null,
      "outputs": []
    },
    {
      "cell_type": "code",
      "metadata": {
        "colab": {
          "base_uri": "https://localhost:8080/"
        },
        "id": "IQ_Q_aVwuFy4",
        "outputId": "289879ca-a573-4388-df52-59c206e4a805"
      },
      "source": [
        "Loss1 = []\n",
        "Acc1 = []\n",
        "Val_loss1 = []\n",
        "\n",
        "for i in range(60):\n",
        "  Loss1.append(history[i]['loss'])\n",
        "  Acc1.append(history[i]['acc'])\n",
        "  Val_loss1.append(history[i]['val_loss'])\n",
        "print(Loss1)\n",
        "print(Acc1)\n"
      ],
      "execution_count": 14,
      "outputs": [
        {
          "output_type": "stream",
          "text": [
            "[1.6595302820205688, 1.089608907699585, 0.8624507784843445, 0.715684175491333, 0.5968138575553894, 0.49000096321105957, 0.39606109261512756, 0.32508528232574463, 0.2593444883823395, 0.21017181873321533, 0.18876521289348602, 0.16819941997528076, 0.16294121742248535, 0.15155437588691711, 0.12669378519058228, 0.12201657146215439, 0.11998090893030167, 0.1255798637866974, 0.10911770910024643, 0.1059427261352539, 0.11743929982185364, 0.11702372878789902, 0.1035865992307663, 0.11321404576301575, 0.10667584091424942, 0.10058553516864777, 0.09835244715213776, 0.09684310853481293, 0.112906813621521, 0.14667607843875885, 0.12447988986968994, 0.10417234897613525, 0.10207054018974304, 0.10060425847768784, 0.11114154756069183, 0.13306912779808044, 0.14495858550071716, 0.10528937727212906, 0.12258496880531311, 0.13374245166778564, 0.12920373678207397, 0.15796063840389252, 0.13962580263614655, 0.16657689213752747, 0.1585366427898407, 0.1680462658405304, 0.16857866942882538, 0.15619727969169617, 0.19576089084148407, 0.1775968074798584, 0.1703987568616867, 0.20552945137023926, 0.18729831278324127, 0.20597122609615326, 0.23192714154720306, 0.2005642205476761, 0.2581377327442169, 0.2924160361289978, 0.29898637533187866, 0.3123707175254822]\n",
            "[0.3942599892616272, 0.6175000071525574, 0.6982799768447876, 0.7490800023078918, 0.790880024433136, 0.8267599940299988, 0.8590999841690063, 0.8835800290107727, 0.9074000120162964, 0.9249799847602844, 0.9327200055122375, 0.9415199756622314, 0.9442800283432007, 0.9478999972343445, 0.9574400186538696, 0.958899974822998, 0.9607200026512146, 0.9599000215530396, 0.9659000039100647, 0.9659000039100647, 0.9640200138092041, 0.9633399844169617, 0.9676799774169922, 0.9656199812889099, 0.9685400128364563, 0.9697999954223633, 0.972100019454956, 0.9721800088882446, 0.9686599969863892, 0.9613800048828125, 0.9665600061416626, 0.9714800119400024, 0.9726799726486206, 0.9719600081443787, 0.9710800051689148, 0.9657800197601318, 0.9643399715423584, 0.9733399748802185, 0.9703199863433838, 0.9675599932670593, 0.9692999720573425, 0.9652199745178223, 0.9673600196838379, 0.9635599851608276, 0.9654200077056885, 0.9637399911880493, 0.9637399911880493, 0.9658399820327759, 0.9605399966239929, 0.9632200002670288, 0.9658200144767761, 0.9591400027275085, 0.96288001537323, 0.9607399702072144, 0.957319974899292, 0.9611200094223022, 0.9538599848747253, 0.9495999813079834, 0.9488599896430969, 0.9474400281906128]\n"
          ],
          "name": "stdout"
        }
      ]
    },
    {
      "cell_type": "code",
      "metadata": {
        "id": "KkOyJ1WbgNt3"
      },
      "source": [
        ""
      ],
      "execution_count": null,
      "outputs": []
    },
    {
      "cell_type": "code",
      "metadata": {
        "id": "BY6tMAvSep3p"
      },
      "source": [
        "model = CNN()\n",
        "loss_function = nn.CrossEntropyLoss()\n",
        "optimiser = optim.SGD(model.parameters(), lr=0.1)\n",
        "\n",
        "# Construct a trial object with the model, optimiser and loss.\n",
        "# Also specify metrics we wish to compute.\n",
        "trial = torchbearer.Trial(model, optimiser, loss_function, metrics=['loss', 'accuracy']).to(device)\n",
        "\n",
        "# Provide the data to the trial\n",
        "trial.with_generators(trainloader, val_generator=testloader)\n",
        "\n",
        "# Run 10 epochs of training\n",
        "#history1 = torch.zeros([2])\n",
        "history1 = trial.run(epochs=60)\n",
        "print(history)\n",
        "# test the performance\n",
        "results1 = trial.evaluate(data_key=torchbearer.TEST_DATA)\n",
        "print(results1)"
      ],
      "execution_count": null,
      "outputs": []
    },
    {
      "cell_type": "code",
      "metadata": {
        "colab": {
          "base_uri": "https://localhost:8080/"
        },
        "id": "U1DIa3eyFtqA",
        "outputId": "f7986cb2-5b16-4e29-9f53-42c5d8cac93f"
      },
      "source": [
        "Loss2 = []\n",
        "for i in range(60):\n",
        "  Loss2.append(history1[i]['loss'])\n",
        "print(Loss2)\n",
        "np.size(Loss2)"
      ],
      "execution_count": 10,
      "outputs": [
        {
          "output_type": "stream",
          "text": [
            "[1.6765738725662231, 1.2009621858596802, 0.9952007532119751, 0.8623884916305542, 0.7522647380828857, 0.6593022346496582, 0.5731284022331238, 0.49313122034072876, 0.41510865092277527, 0.3448365032672882, 0.28007635474205017, 0.21756933629512787, 0.1654188334941864, 0.133222758769989, 0.11244583874940872, 0.08245682716369629, 0.06250142306089401, 0.034286778420209885, 0.031165331602096558, 0.021016495302319527, 0.00478616077452898, 0.0017345347441732883, 0.001032016589306295, 0.0007828242378309369, 0.000658349716104567, 0.0005736048333346844, 0.0005072026397101581, 0.0004568419244606048, 0.00041555846109986305, 0.0003822885046247393, 0.00035371549893170595, 0.0003285490965936333, 0.00030735431937500834, 0.0002889794996008277, 0.0002726642997004092, 0.0002581454173196107, 0.0002445896971039474, 0.00023309704556595534, 0.00022218325466383249, 0.0002123851445503533, 0.0002034950884990394, 0.0001950357691384852, 0.0001875679736258462, 0.00018040501163341105, 0.00017382549413014203, 0.0001678362605161965, 0.00016194653289858252, 0.00015678258205298334, 0.00015180053014773875, 0.00014700510655529797, 0.00014272911357693374, 0.00013852439587935805, 0.0001346048666164279, 0.00013084395322948694, 0.0001273362140636891, 0.00012396022793836892, 0.00012082589091733098, 0.0001177896119770594, 0.00011492689372971654, 0.00011219920997973531]\n"
          ],
          "name": "stdout"
        },
        {
          "output_type": "execute_result",
          "data": {
            "text/plain": [
              "60"
            ]
          },
          "metadata": {
            "tags": []
          },
          "execution_count": 10
        }
      ]
    },
    {
      "cell_type": "code",
      "metadata": {
        "id": "87ZPtMG_ep6a"
      },
      "source": [
        "model = CNN()\n",
        "loss_function = nn.CrossEntropyLoss()\n",
        "optimiser = optim.SGD(model.parameters(), lr=0.1, momentum=0.9, nesterov=True)\n",
        "\n",
        "# Construct a trial object with the model, optimiser and loss.\n",
        "# Also specify metrics we wish to compute.\n",
        "trial = torchbearer.Trial(model, optimiser, loss_function, metrics=['loss', 'accuracy']).to(device)\n",
        "\n",
        "# Provide the data to the trial\n",
        "trial.with_generators(trainloader, val_generator=testloader)\n",
        "\n",
        "# Run 10 epochs of training\n",
        "history3 = trial.run(epochs=60)\n",
        "print(history)\n",
        "# test the performance\n",
        "results3 = trial.evaluate(data_key=torchbearer.TEST_DATA)\n",
        "print(results)"
      ],
      "execution_count": null,
      "outputs": []
    },
    {
      "cell_type": "code",
      "metadata": {
        "colab": {
          "base_uri": "https://localhost:8080/"
        },
        "id": "GpV93qYRIwgW",
        "outputId": "839a18b3-2dec-40da-ed4e-194f6d995ecb"
      },
      "source": [
        "Loss3 = []\n",
        "for i in range(60):\n",
        "  Loss3.append(history2[i]['loss'])\n",
        "print(Loss3)\n",
        "np.size(Loss3)"
      ],
      "execution_count": 13,
      "outputs": [
        {
          "output_type": "stream",
          "text": [
            "[1.4680876731872559, 1.1098555326461792, 0.9701194167137146, 0.8800005912780762, 0.8325933218002319, 0.7760983109474182, 0.7314146757125854, 0.7388599514961243, 0.7045684456825256, 0.6835907697677612, 0.6802206635475159, 0.706415057182312, 0.7283248901367188, 0.728633463382721, 0.7593652606010437, 0.7576196193695068, 0.879523754119873, 0.8105671405792236, 0.8322906494140625, 0.9014932513237, 0.986574113368988, 0.9778113961219788, 1.0157983303070068, 1.096746802330017, 1.1240644454956055, 1.1506317853927612, 1.2120808362960815, 1.225786566734314, 1.3148812055587769, 1.4331473112106323, 1.761904239654541, 2.157270908355713, 2.267277717590332, 2.304593563079834, 2.305290937423706, 2.3046748638153076, 2.304579973220825, 2.304532766342163, 2.304641008377075, 2.3044843673706055, 2.3049025535583496, 2.304755926132202, 2.3048110008239746, 2.3048255443573, 2.304434299468994, 2.3046817779541016, 2.304640054702759, 2.3048062324523926, 2.3045578002929688, 2.304250478744507, 2.3043854236602783, 2.3047544956207275, 2.3046560287475586, 2.304713487625122, 2.3046762943267822, 2.3047280311584473, 2.30475115776062, 2.3048393726348877, 2.304990530014038, 2.3044822216033936]\n"
          ],
          "name": "stdout"
        },
        {
          "output_type": "execute_result",
          "data": {
            "text/plain": [
              "60"
            ]
          },
          "metadata": {
            "tags": []
          },
          "execution_count": 13
        }
      ]
    },
    {
      "cell_type": "code",
      "metadata": {
        "id": "BJh4ZDuZj_JJ"
      },
      "source": [
        "import matplotlib.pyplot as plt\n",
        "import matplotlib\n",
        "epoch = list(range(0,60))\n",
        "plt.plot(epoch, Loss1, label = 'MaSS')\n",
        "plt.plot(epoch, Loss2, label = 'SGD')\n",
        "plt.plot(epoch, Loss3, label = 'SGD+nesterov')\n",
        "plt.legend()\n",
        "plt.xlabel('epoch')\n",
        "plt.ylabel('loss')\n",
        "plt.title(\"CNN on CIFAR-10\")\n",
        "plt.savefig('curve.png')\n",
        "plt.show()"
      ],
      "execution_count": null,
      "outputs": []
    },
    {
      "cell_type": "code",
      "metadata": {
        "id": "w7rn8hoek0qk"
      },
      "source": [
        ""
      ],
      "execution_count": null,
      "outputs": []
    },
    {
      "cell_type": "code",
      "metadata": {
        "id": "mibLW27jkHAL"
      },
      "source": [
        ""
      ],
      "execution_count": null,
      "outputs": []
    }
  ]
}